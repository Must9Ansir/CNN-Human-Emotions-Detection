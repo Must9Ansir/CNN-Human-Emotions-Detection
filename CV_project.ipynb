{
  "cells": [
    {
      "cell_type": "code",
      "execution_count": null,
      "metadata": {
        "id": "cwxED-PYbW1R"
      },
      "outputs": [],
      "source": [
        "# from zipfile import ZipFile\n",
        "# with ZipFile( '/content/drive/MyDrive/facial_expression.zip', 'r') as data:\n",
        "#   data.extractall('/content/drive/MyDrive/Extracted data set 2')\n",
        "\n",
        "\n",
        "\n"
      ]
    },
    {
      "cell_type": "code",
      "execution_count": null,
      "metadata": {
        "id": "AzMKDhIsfh8U"
      },
      "outputs": [],
      "source": [
        "import pandas as pd\n",
        "import tensorflow as tf\n",
        "from tensorflow import keras\n",
        "import os\n"
      ]
    },
    {
      "cell_type": "code",
      "execution_count": null,
      "metadata": {
        "colab": {
          "base_uri": "https://localhost:8080/"
        },
        "id": "npdZ_ZEdfjgO",
        "outputId": "ec7502d6-12cb-41e6-c2d2-d57dff08bc18"
      },
      "outputs": [
        {
          "output_type": "execute_result",
          "data": {
            "text/plain": [
              "['Dataset']"
            ]
          },
          "metadata": {},
          "execution_count": 2
        }
      ],
      "source": [
        "os.listdir('/content/drive/MyDrive/Extracted data set 2')"
      ]
    },
    {
      "cell_type": "code",
      "execution_count": null,
      "metadata": {
        "id": "vs61g716gpmx"
      },
      "outputs": [],
      "source": [
        "basepath = \"/content/drive/MyDrive/Extracted data set 2\""
      ]
    },
    {
      "cell_type": "code",
      "execution_count": null,
      "metadata": {
        "colab": {
          "base_uri": "https://localhost:8080/"
        },
        "id": "E1s-rNnjg5Dn",
        "outputId": "e04679cb-06e3-41cd-8b3d-24137e63eb6d"
      },
      "outputs": [
        {
          "output_type": "execute_result",
          "data": {
            "text/plain": [
              "['labels.txt', 'test', 'train']"
            ]
          },
          "metadata": {},
          "execution_count": 4
        }
      ],
      "source": [
        "os.listdir(os.path.join(basepath, 'Dataset'))"
      ]
    },
    {
      "cell_type": "code",
      "execution_count": null,
      "metadata": {
        "id": "nMiF_1ZthRlC"
      },
      "outputs": [],
      "source": [
        "test_data = os.path.join(basepath, 'Dataset', 'test')\n",
        "train_data = os.path.join(basepath, 'Dataset', 'train')"
      ]
    },
    {
      "cell_type": "code",
      "execution_count": null,
      "metadata": {
        "colab": {
          "base_uri": "https://localhost:8080/",
          "height": 36
        },
        "id": "j2Wgi2SLiBkB",
        "outputId": "55cacf26-8f5b-44e4-f799-84fe1d6f804b"
      },
      "outputs": [
        {
          "output_type": "execute_result",
          "data": {
            "text/plain": [
              "'/content/drive/MyDrive/Extracted data set 2/Dataset/test'"
            ],
            "application/vnd.google.colaboratory.intrinsic+json": {
              "type": "string"
            }
          },
          "metadata": {},
          "execution_count": 6
        }
      ],
      "source": [
        "test_data"
      ]
    },
    {
      "cell_type": "code",
      "execution_count": null,
      "metadata": {
        "colab": {
          "base_uri": "https://localhost:8080/",
          "height": 36
        },
        "id": "IdTXGWociEkv",
        "outputId": "6fe81a00-9b03-443d-e0b5-45aad717bf20"
      },
      "outputs": [
        {
          "output_type": "execute_result",
          "data": {
            "text/plain": [
              "'/content/drive/MyDrive/Extracted data set 2/Dataset/train'"
            ],
            "application/vnd.google.colaboratory.intrinsic+json": {
              "type": "string"
            }
          },
          "metadata": {},
          "execution_count": 7
        }
      ],
      "source": [
        "\n",
        "train_data"
      ]
    },
    {
      "cell_type": "code",
      "execution_count": null,
      "metadata": {
        "colab": {
          "base_uri": "https://localhost:8080/"
        },
        "id": "xYR2_wH5iHys",
        "outputId": "c8bb08b0-4dff-4f32-92dd-ad822654fd6e"
      },
      "outputs": [
        {
          "output_type": "stream",
          "name": "stdout",
          "text": [
            "anger 491\n",
            "disgust 55\n",
            "fear 528\n",
            "happiness 879\n",
            "neutral 626\n",
            "sadness 594\n",
            "surprise 416\n"
          ]
        }
      ],
      "source": [
        "for i in os.listdir(test_data):\n",
        "  print(i, len(os.listdir(os.path.join(test_data, i))))\n"
      ]
    },
    {
      "cell_type": "code",
      "execution_count": null,
      "metadata": {
        "colab": {
          "base_uri": "https://localhost:8080/"
        },
        "id": "QuHR6x5di250",
        "outputId": "ba4ef463-de69-48c5-82c7-c22c83082f1a"
      },
      "outputs": [
        {
          "output_type": "stream",
          "name": "stdout",
          "text": [
            "anger 4462\n",
            "disgust 493\n",
            "fear 4593\n",
            "happiness 8110\n",
            "neutral 5572\n",
            "sadness 5483\n",
            "surprise 3586\n"
          ]
        }
      ],
      "source": [
        "for i in os.listdir(train_data):\n",
        "  print(i, len(os.listdir(os.path.join(train_data, i))))"
      ]
    },
    {
      "cell_type": "code",
      "execution_count": null,
      "metadata": {
        "id": "C7ysR61ajwwB"
      },
      "outputs": [],
      "source": [
        "import cv2"
      ]
    },
    {
      "cell_type": "code",
      "execution_count": null,
      "metadata": {
        "colab": {
          "base_uri": "https://localhost:8080/"
        },
        "id": "gPU8mwLAj6ZU",
        "outputId": "724ba87a-0d0c-4779-8205-1c0dc39f06e4"
      },
      "outputs": [
        {
          "output_type": "execute_result",
          "data": {
            "text/plain": [
              "['.jovianrc',\n",
              " '1016646.png',\n",
              " '1025485.png',\n",
              " '1042190.png',\n",
              " '1059753.png',\n",
              " '1091693.png',\n",
              " '1100485.png',\n",
              " '1112152.png',\n",
              " '1114592.png',\n",
              " '1149728.png',\n",
              " '1152342.png',\n",
              " '1156419.png',\n",
              " '1219698.png',\n",
              " '1243951.png',\n",
              " '126398.png',\n",
              " '1331222.png',\n",
              " '1338503.png',\n",
              " '1398692.png',\n",
              " '1422576.png',\n",
              " '1446780.png',\n",
              " '1481443.png',\n",
              " '1521226.png',\n",
              " '1535849.png',\n",
              " '1547001.png',\n",
              " '1552848.png',\n",
              " '1563644.png',\n",
              " '1587023.png',\n",
              " '1587137.png',\n",
              " '1596044.png',\n",
              " '1608967.png',\n",
              " '162196.png',\n",
              " '1645744.png',\n",
              " '165667.png',\n",
              " '1657912.png',\n",
              " '1661191.png',\n",
              " '1665687.png',\n",
              " '169050.png',\n",
              " '1707114.png',\n",
              " '1711254.png',\n",
              " '1720659.png',\n",
              " '1727725.png',\n",
              " '1738940.png',\n",
              " '1742975.png',\n",
              " '1773921.png',\n",
              " '1778112.png',\n",
              " '1800972.png',\n",
              " '1801207.png',\n",
              " '1805220.png',\n",
              " '181254.png',\n",
              " '1813690.png',\n",
              " '1822854.png',\n",
              " '1842914.png',\n",
              " '1863118.png',\n",
              " '1863655.png',\n",
              " '1916612.png',\n",
              " '1939182.png',\n",
              " '1962927.png',\n",
              " '1968321.png',\n",
              " '1977296.png',\n",
              " '1983890.png',\n",
              " '1985287.png',\n",
              " '199566.png',\n",
              " '2004999.png',\n",
              " '2006138.png',\n",
              " '2006759.png',\n",
              " '2039464.png',\n",
              " '2043067.png',\n",
              " '2059160.png',\n",
              " '2061739.png',\n",
              " '207615.png',\n",
              " '2118737.png',\n",
              " '2149663.png',\n",
              " '2187890.png',\n",
              " '2195706.png',\n",
              " '2237838.png',\n",
              " '2239396.png',\n",
              " '223973.png',\n",
              " '2241373.png',\n",
              " '2244542.png',\n",
              " '2268348.png',\n",
              " '2285665.png',\n",
              " '2293405.png',\n",
              " '2304334.png',\n",
              " '2306270.png',\n",
              " '2309533.png',\n",
              " '2350198.png',\n",
              " '2363188.png',\n",
              " '2379656.png',\n",
              " '2389058.png',\n",
              " '2406596.png',\n",
              " '2427619.png',\n",
              " '2470698.png',\n",
              " '2494811.png',\n",
              " '2515062.png',\n",
              " '2523978.png',\n",
              " '2550232.png',\n",
              " '2550692.png',\n",
              " '2555742.png',\n",
              " '2594914.png',\n",
              " '2606441.png',\n",
              " '261258.png',\n",
              " '2619173.png',\n",
              " '2632090.png',\n",
              " '2665070.png',\n",
              " '2691430.png',\n",
              " '2700606.png',\n",
              " '2737551.png',\n",
              " '2754987.png',\n",
              " '2767568.png',\n",
              " '2768968.png',\n",
              " '2770192.png',\n",
              " '2777791.png',\n",
              " '2803297.png',\n",
              " '2810772.png',\n",
              " '2849817.png',\n",
              " '2882171.png',\n",
              " '2882420.png',\n",
              " '2884821.png',\n",
              " '2907959.png',\n",
              " '2931124.png',\n",
              " '2937701.png',\n",
              " '2950073.png',\n",
              " '2957765.png',\n",
              " '2962172.png',\n",
              " '2962351.png',\n",
              " '298083.png',\n",
              " '3004370.png',\n",
              " '3004509.png',\n",
              " '3018229.png',\n",
              " '301827.png',\n",
              " '3032084.png',\n",
              " '3042423.png',\n",
              " '3048005.png',\n",
              " '3050250.png',\n",
              " '3092488.png',\n",
              " '3109890.png',\n",
              " '3115363.png',\n",
              " '3121335.png',\n",
              " '3130644.png',\n",
              " '3134269.png',\n",
              " '3193424.png',\n",
              " '3228904.png',\n",
              " '3233796.png',\n",
              " '3246685.png',\n",
              " '3268805.png',\n",
              " '3319049.png',\n",
              " '3345767.png',\n",
              " '3366642.png',\n",
              " '3389515.png',\n",
              " '3429373.png',\n",
              " '3430933.png',\n",
              " '3443084.png',\n",
              " '3482736.png',\n",
              " '3488401.png',\n",
              " '3490645.png',\n",
              " '3494820.png',\n",
              " '3517883.png',\n",
              " '3536629.png',\n",
              " '3550993.png',\n",
              " '3585513.png',\n",
              " '3658453.png',\n",
              " '3659067.png',\n",
              " '366283.png',\n",
              " '3691754.png',\n",
              " '3744124.png',\n",
              " '3767453.png',\n",
              " '3784542.png',\n",
              " '3785967.png',\n",
              " '3787351.png',\n",
              " '3831951.png',\n",
              " '389081.png',\n",
              " '3901475.png',\n",
              " '3903643.png',\n",
              " '3944536.png',\n",
              " '395165.png',\n",
              " '3985857.png',\n",
              " '4023744.png',\n",
              " '4034579.png',\n",
              " '4067933.png',\n",
              " '4069177.png',\n",
              " '4109191.png',\n",
              " '4118492.png',\n",
              " '4122004.png',\n",
              " '4149576.png',\n",
              " '4180881.png',\n",
              " '4204160.png',\n",
              " '4219852.png',\n",
              " '4220927.png',\n",
              " '4239852.png',\n",
              " '4267660.png',\n",
              " '4276881.png',\n",
              " '4293204.png',\n",
              " '4293838.png',\n",
              " '4340613.png',\n",
              " '4342274.png',\n",
              " '4349614.png',\n",
              " '435280.png',\n",
              " '4358338.png',\n",
              " '436998.png',\n",
              " '4373083.png',\n",
              " '4385173.png',\n",
              " '4394805.png',\n",
              " '4418309.png',\n",
              " '4424646.png',\n",
              " '4455312.png',\n",
              " '4469413.png',\n",
              " '4503878.png',\n",
              " '4504798.png',\n",
              " '452171.png',\n",
              " '4533505.png',\n",
              " '4535282.png',\n",
              " '4549387.png',\n",
              " '4580276.png',\n",
              " '4616779.png',\n",
              " '4621678.png',\n",
              " '462883.png',\n",
              " '4629756.png',\n",
              " '4630646.png',\n",
              " '4671078.png',\n",
              " '4689949.png',\n",
              " '469387.png',\n",
              " '4702510.png',\n",
              " '4711071.png',\n",
              " '4724834.png',\n",
              " '4742775.png',\n",
              " '4746680.png',\n",
              " '4758476.png',\n",
              " '4779524.png',\n",
              " '4843826.png',\n",
              " '4863887.png',\n",
              " '4883659.png',\n",
              " '4954670.png',\n",
              " '4970761.png',\n",
              " '5018284.png',\n",
              " '5039154.png',\n",
              " '5049556.png',\n",
              " '5064452.png',\n",
              " '5089506.png',\n",
              " '5091187.png',\n",
              " '5133258.png',\n",
              " '514893.png',\n",
              " '5156337.png',\n",
              " '5244639.png',\n",
              " '5250132.png',\n",
              " '5253681.png',\n",
              " '5253808.png',\n",
              " '5255242.png',\n",
              " '5275891.png',\n",
              " '5279349.png',\n",
              " '532156.png',\n",
              " '5389100.png',\n",
              " '5426263.png',\n",
              " '5427425.png',\n",
              " '5471206.png',\n",
              " '5497015.png',\n",
              " '5505283.png',\n",
              " '5521041.png',\n",
              " '55485.png',\n",
              " '5578006.png',\n",
              " '5580176.png',\n",
              " '5625563.png',\n",
              " '5630095.png',\n",
              " '5642147.png',\n",
              " '5695989.png',\n",
              " '5752754.png',\n",
              " '5767023.png',\n",
              " '5780273.png',\n",
              " '5788689.png',\n",
              " '5790628.png',\n",
              " '5790859.png',\n",
              " '582171.png',\n",
              " '5827420.png',\n",
              " '5853940.png',\n",
              " '5859472.png',\n",
              " '5875359.png',\n",
              " '5880880.png',\n",
              " '5882635.png',\n",
              " '588470.png',\n",
              " '5886033.png',\n",
              " '5917854.png',\n",
              " '5945093.png',\n",
              " '5949306.png',\n",
              " '5962097.png',\n",
              " '5977106.png',\n",
              " '6000726.png',\n",
              " '6021974.png',\n",
              " '6051360.png',\n",
              " '6087767.png',\n",
              " '6095745.png',\n",
              " '6113238.png',\n",
              " '6153319.png',\n",
              " '6188256.png',\n",
              " '6240086.png',\n",
              " '6249102.png',\n",
              " '62870.png',\n",
              " '632618.png',\n",
              " '6353707.png',\n",
              " '6377502.png',\n",
              " '639143.png',\n",
              " '639652.png',\n",
              " '6421273.png',\n",
              " '6424156.png',\n",
              " '642451.png',\n",
              " '6430268.png',\n",
              " '6442475.png',\n",
              " '6447169.png',\n",
              " '6456191.png',\n",
              " '6490577.png',\n",
              " '6494549.png',\n",
              " '6498995.png',\n",
              " '6505208.png',\n",
              " '6514947.png',\n",
              " '6528309.png',\n",
              " '6530576.png',\n",
              " '6541607.png',\n",
              " '6546794.png',\n",
              " '655018.png',\n",
              " '657300.png',\n",
              " '6578016.png',\n",
              " '6602869.png',\n",
              " '666982.png',\n",
              " '6678931.png',\n",
              " '6711479.png',\n",
              " '6712525.png',\n",
              " '6727735.png',\n",
              " '6743951.png',\n",
              " '6801486.png',\n",
              " '6809508.png',\n",
              " '6858433.png',\n",
              " '6892383.png',\n",
              " '6955025.png',\n",
              " '6972365.png',\n",
              " '6993685.png',\n",
              " '7004673.png',\n",
              " '7051899.png',\n",
              " '7083205.png',\n",
              " '7086525.png',\n",
              " '7105553.png',\n",
              " '712266.png',\n",
              " '7123571.png',\n",
              " '7162513.png',\n",
              " '717014.png',\n",
              " '7198381.png',\n",
              " '722001.png',\n",
              " '7229273.png',\n",
              " '7238539.png',\n",
              " '7254753.png',\n",
              " '727018.png',\n",
              " '7273000.png',\n",
              " '7329003.png',\n",
              " '7335093.png',\n",
              " '7338323.png',\n",
              " '7358060.png',\n",
              " '7367613.png',\n",
              " '7419507.png',\n",
              " '7469849.png',\n",
              " '7484919.png',\n",
              " '7501388.png',\n",
              " '7514796.png',\n",
              " '7529452.png',\n",
              " '7542777.png',\n",
              " '7545178.png',\n",
              " '7588580.png',\n",
              " '7589207.png',\n",
              " '7592043.png',\n",
              " '7602962.png',\n",
              " '7623880.png',\n",
              " '7666500.png',\n",
              " '7670340.png',\n",
              " '7673927.png',\n",
              " '7686333.png',\n",
              " '7686659.png',\n",
              " '7698009.png',\n",
              " '7773888.png',\n",
              " '7782637.png',\n",
              " '7782739.png',\n",
              " '7792846.png',\n",
              " '780132.png',\n",
              " '7839623.png',\n",
              " '7857961.png',\n",
              " '7866677.png',\n",
              " '792430.png',\n",
              " '7939175.png',\n",
              " '7949407.png',\n",
              " '7985862.png',\n",
              " '8019985.png',\n",
              " '8050642.png',\n",
              " '808787.png',\n",
              " '8199737.png',\n",
              " '8204380.png',\n",
              " '8216559.png',\n",
              " '8234197.png',\n",
              " '8237237.png',\n",
              " '8247491.png',\n",
              " '8253148.png',\n",
              " '8253274.png',\n",
              " '8269735.png',\n",
              " '827886.png',\n",
              " '8304417.png',\n",
              " '8310257.png',\n",
              " '8320423.png',\n",
              " '8354205.png',\n",
              " '8364900.png',\n",
              " '8382315.png',\n",
              " '838832.png',\n",
              " '8410014.png',\n",
              " '8411261.png',\n",
              " '8419771.png',\n",
              " '8441421.png',\n",
              " '844530.png',\n",
              " '8447369.png',\n",
              " '8497845.png',\n",
              " '8506180.png',\n",
              " '8520982.png',\n",
              " '8527672.png',\n",
              " '8530667.png',\n",
              " '8571321.png',\n",
              " '8576188.png',\n",
              " '8586625.png',\n",
              " '8607819.png',\n",
              " '8634558.png',\n",
              " '8675576.png',\n",
              " '8717155.png',\n",
              " '8726175.png',\n",
              " '8738477.png',\n",
              " '8756526.png',\n",
              " '8759057.png',\n",
              " '8782702.png',\n",
              " '8836953.png',\n",
              " '8840600.png',\n",
              " '8845048.png',\n",
              " '8874951.png',\n",
              " '89100.png',\n",
              " '8915907.png',\n",
              " '8928626.png',\n",
              " '8960731.png',\n",
              " '8972243.png',\n",
              " '8988095.png',\n",
              " '901650.png',\n",
              " '9058869.png',\n",
              " '9085473.png',\n",
              " '9125049.png',\n",
              " '9133647.png',\n",
              " '9144633.png',\n",
              " '9148151.png',\n",
              " '9167748.png',\n",
              " '918156.png',\n",
              " '9183502.png',\n",
              " '9185804.png',\n",
              " '9245383.png',\n",
              " '9246421.png',\n",
              " '92604.png',\n",
              " '9267832.png',\n",
              " '9271978.png',\n",
              " '9276389.png',\n",
              " '9289511.png',\n",
              " '9309803.png',\n",
              " '9315854.png',\n",
              " '9347562.png',\n",
              " '9418816.png',\n",
              " '9442508.png',\n",
              " '9444105.png',\n",
              " '9454017.png',\n",
              " '9479767.png',\n",
              " '9491205.png',\n",
              " '9509669.png',\n",
              " '9527493.png',\n",
              " '9528063.png',\n",
              " '9531692.png',\n",
              " '9541505.png',\n",
              " '9547903.png',\n",
              " '9556834.png',\n",
              " '9570889.png',\n",
              " '9575108.png',\n",
              " '96484.png',\n",
              " '9651930.png',\n",
              " '9669659.png',\n",
              " '9681364.png',\n",
              " '9726762.png',\n",
              " '9733277.png',\n",
              " '975711.png',\n",
              " '9773220.png',\n",
              " '9787005.png',\n",
              " '9791032.png',\n",
              " '9794307.png',\n",
              " '9820089.png',\n",
              " '9824290.png',\n",
              " '9827941.png',\n",
              " '9859618.png',\n",
              " '9886493.png',\n",
              " '9904809.png',\n",
              " '9964827.png',\n",
              " '9965012.png']"
            ]
          },
          "metadata": {},
          "execution_count": 11
        }
      ],
      "source": [
        "os.listdir(os.path.join(train_data, \"disgust\"))"
      ]
    },
    {
      "cell_type": "code",
      "execution_count": null,
      "metadata": {
        "id": "D-onU7qkkRua"
      },
      "outputs": [],
      "source": [
        "img =cv2.imread(os.path.join(train_data, \"disgust\",\"9904809.png\"))"
      ]
    },
    {
      "cell_type": "code",
      "execution_count": null,
      "metadata": {
        "id": "N5xEKlqNkjTI"
      },
      "outputs": [],
      "source": [
        "from google.colab.patches import cv2_imshow"
      ]
    },
    {
      "cell_type": "code",
      "execution_count": null,
      "metadata": {
        "colab": {
          "base_uri": "https://localhost:8080/",
          "height": 65
        },
        "id": "-LRtxKafkvWM",
        "outputId": "d5f38d9f-847f-4bb5-ee65-e776279c16dd"
      },
      "outputs": [
        {
          "output_type": "display_data",
          "data": {
            "text/plain": [
              "<PIL.Image.Image image mode=RGB size=48x48>"
            ],
            "image/png": "[encoded data removed]"
          },
          "metadata": {}
        }
      ],
      "source": [
        "cv2_imshow(img)"
      ]
    },
    {
      "cell_type": "code",
      "execution_count": null,
      "metadata": {
        "colab": {
          "base_uri": "https://localhost:8080/"
        },
        "id": "zyBAyuX-k7Kc",
        "outputId": "17509eda-7aad-4161-9150-eac957059755"
      },
      "outputs": [
        {
          "output_type": "execute_result",
          "data": {
            "text/plain": [
              "(48, 48, 3)"
            ]
          },
          "metadata": {},
          "execution_count": 15
        }
      ],
      "source": [
        "img.shape"
      ]
    },
    {
      "cell_type": "code",
      "execution_count": null,
      "metadata": {
        "colab": {
          "base_uri": "https://localhost:8080/"
        },
        "id": "VZPtjQNplCig",
        "outputId": "b5c0263d-819f-4312-f98a-bfbb3bd9b3f6"
      },
      "outputs": [
        {
          "output_type": "execute_result",
          "data": {
            "text/plain": [
              "6912"
            ]
          },
          "metadata": {},
          "execution_count": 16
        }
      ],
      "source": [
        "img.size"
      ]
    },
    {
      "cell_type": "code",
      "execution_count": null,
      "metadata": {
        "id": "hEpa_g87lMiN"
      },
      "outputs": [],
      "source": [
        "from keras.utils import  image_dataset_from_directory"
      ]
    },
    {
      "cell_type": "code",
      "execution_count": null,
      "metadata": {
        "colab": {
          "base_uri": "https://localhost:8080/"
        },
        "id": "rfHpoJKDlvKw",
        "outputId": "9e4d5cf8-f8df-4bb9-d6d1-9b3c6738ebe7"
      },
      "outputs": [
        {
          "output_type": "stream",
          "name": "stdout",
          "text": [
            "Found 32298 files belonging to 7 classes.\n",
            "Found 3589 files belonging to 7 classes.\n"
          ]
        }
      ],
      "source": [
        "train_batches =image_dataset_from_directory(train_data, image_size=(48,48), batch_size=80)\n",
        "test_batches =image_dataset_from_directory(test_data, image_size=(48,48), batch_size=80)"
      ]
    },
    {
      "cell_type": "code",
      "execution_count": null,
      "metadata": {
        "id": "RpoJnPlFl6TM"
      },
      "outputs": [],
      "source": [
        "iterater_train = train_batches.as_numpy_iterator()\n",
        "interater_test = test_batches.as_numpy_iterator()"
      ]
    },
    {
      "cell_type": "code",
      "execution_count": null,
      "metadata": {
        "id": "t1Z4PGGfpMtc"
      },
      "outputs": [],
      "source": [
        "batch_train = iterater_train.next()"
      ]
    },
    {
      "cell_type": "code",
      "execution_count": null,
      "metadata": {
        "colab": {
          "base_uri": "https://localhost:8080/"
        },
        "id": "wgWeO8kZpnp-",
        "outputId": "efd0faf2-fa9c-4ece-8b64-2a3908effc54"
      },
      "outputs": [
        {
          "output_type": "execute_result",
          "data": {
            "text/plain": [
              "(array([[[[ 45.,  45.,  45.],\n",
              "          [ 48.,  48.,  48.],\n",
              "          [ 50.,  50.,  50.],\n",
              "          ...,\n",
              "          [ 91.,  91.,  91.],\n",
              "          [ 87.,  87.,  87.],\n",
              "          [ 98.,  98.,  98.]],\n",
              " \n",
              "         [[ 30.,  30.,  30.],\n",
              "          [ 34.,  34.,  34.],\n",
              "          [ 39.,  39.,  39.],\n",
              "          ...,\n",
              "          [ 82.,  82.,  82.],\n",
              "          [ 80.,  80.,  80.],\n",
              "          [ 85.,  85.,  85.]],\n",
              " \n",
              "         [[ 13.,  13.,  13.],\n",
              "          [ 16.,  16.,  16.],\n",
              "          [ 17.,  17.,  17.],\n",
              "          ...,\n",
              "          [ 85.,  85.,  85.],\n",
              "          [ 78.,  78.,  78.],\n",
              "          [ 79.,  79.,  79.]],\n",
              " \n",
              "         ...,\n",
              " \n",
              "         [[ 14.,  14.,  14.],\n",
              "          [  2.,   2.,   2.],\n",
              "          [  8.,   8.,   8.],\n",
              "          ...,\n",
              "          [ 83.,  83.,  83.],\n",
              "          [ 97.,  97.,  97.],\n",
              "          [108., 108., 108.]],\n",
              " \n",
              "         [[  2.,   2.,   2.],\n",
              "          [  7.,   7.,   7.],\n",
              "          [  7.,   7.,   7.],\n",
              "          ...,\n",
              "          [ 91.,  91.,  91.],\n",
              "          [100., 100., 100.],\n",
              "          [108., 108., 108.]],\n",
              " \n",
              "         [[  6.,   6.,   6.],\n",
              "          [  8.,   8.,   8.],\n",
              "          [  7.,   7.,   7.],\n",
              "          ...,\n",
              "          [ 94.,  94.,  94.],\n",
              "          [116., 116., 116.],\n",
              "          [174., 174., 174.]]],\n",
              " \n",
              " \n",
              "        [[[ 50.,  50.,  50.],\n",
              "          [ 58.,  58.,  58.],\n",
              "          [ 60.,  60.,  60.],\n",
              "          ...,\n",
              "          [191., 191., 191.],\n",
              "          [190., 190., 190.],\n",
              "          [190., 190., 190.]],\n",
              " \n",
              "         [[ 50.,  50.,  50.],\n",
              "          [ 62.,  62.,  62.],\n",
              "          [ 87.,  87.,  87.],\n",
              "          ...,\n",
              "          [190., 190., 190.],\n",
              "          [192., 192., 192.],\n",
              "          [190., 190., 190.]],\n",
              " \n",
              "         [[ 50.,  50.,  50.],\n",
              "          [ 68.,  68.,  68.],\n",
              "          [ 97.,  97.,  97.],\n",
              "          ...,\n",
              "          [190., 190., 190.],\n",
              "          [190., 190., 190.],\n",
              "          [191., 191., 191.]],\n",
              " \n",
              "         ...,\n",
              " \n",
              "         [[117., 117., 117.],\n",
              "          [117., 117., 117.],\n",
              "          [119., 119., 119.],\n",
              "          ...,\n",
              "          [190., 190., 190.],\n",
              "          [191., 191., 191.],\n",
              "          [190., 190., 190.]],\n",
              " \n",
              "         [[116., 116., 116.],\n",
              "          [118., 118., 118.],\n",
              "          [116., 116., 116.],\n",
              "          ...,\n",
              "          [188., 188., 188.],\n",
              "          [188., 188., 188.],\n",
              "          [190., 190., 190.]],\n",
              " \n",
              "         [[116., 116., 116.],\n",
              "          [117., 117., 117.],\n",
              "          [118., 118., 118.],\n",
              "          ...,\n",
              "          [189., 189., 189.],\n",
              "          [189., 189., 189.],\n",
              "          [190., 190., 190.]]],\n",
              " \n",
              " \n",
              "        [[[ 32.,  32.,  32.],\n",
              "          [ 24.,  24.,  24.],\n",
              "          [ 18.,  18.,  18.],\n",
              "          ...,\n",
              "          [  2.,   2.,   2.],\n",
              "          [  2.,   2.,   2.],\n",
              "          [  3.,   3.,   3.]],\n",
              " \n",
              "         [[ 33.,  33.,  33.],\n",
              "          [ 21.,  21.,  21.],\n",
              "          [ 15.,  15.,  15.],\n",
              "          ...,\n",
              "          [  3.,   3.,   3.],\n",
              "          [  3.,   3.,   3.],\n",
              "          [  3.,   3.,   3.]],\n",
              " \n",
              "         [[ 25.,  25.,  25.],\n",
              "          [ 16.,  16.,  16.],\n",
              "          [ 16.,  16.,  16.],\n",
              "          ...,\n",
              "          [  3.,   3.,   3.],\n",
              "          [  3.,   3.,   3.],\n",
              "          [  3.,   3.,   3.]],\n",
              " \n",
              "         ...,\n",
              " \n",
              "         [[  6.,   6.,   6.],\n",
              "          [  8.,   8.,   8.],\n",
              "          [ 13.,  13.,  13.],\n",
              "          ...,\n",
              "          [ 10.,  10.,  10.],\n",
              "          [ 15.,  15.,  15.],\n",
              "          [ 10.,  10.,  10.]],\n",
              " \n",
              "         [[  6.,   6.,   6.],\n",
              "          [ 11.,  11.,  11.],\n",
              "          [ 11.,  11.,  11.],\n",
              "          ...,\n",
              "          [ 14.,  14.,  14.],\n",
              "          [ 14.,  14.,  14.],\n",
              "          [  9.,   9.,   9.]],\n",
              " \n",
              "         [[  6.,   6.,   6.],\n",
              "          [ 10.,  10.,  10.],\n",
              "          [ 12.,  12.,  12.],\n",
              "          ...,\n",
              "          [ 16.,  16.,  16.],\n",
              "          [ 11.,  11.,  11.],\n",
              "          [  8.,   8.,   8.]]],\n",
              " \n",
              " \n",
              "        ...,\n",
              " \n",
              " \n",
              "        [[[222., 222., 222.],\n",
              "          [222., 222., 222.],\n",
              "          [222., 222., 222.],\n",
              "          ...,\n",
              "          [211., 211., 211.],\n",
              "          [204., 204., 204.],\n",
              "          [186., 186., 186.]],\n",
              " \n",
              "         [[223., 223., 223.],\n",
              "          [222., 222., 222.],\n",
              "          [222., 222., 222.],\n",
              "          ...,\n",
              "          [209., 209., 209.],\n",
              "          [210., 210., 210.],\n",
              "          [200., 200., 200.]],\n",
              " \n",
              "         [[222., 222., 222.],\n",
              "          [222., 222., 222.],\n",
              "          [222., 222., 222.],\n",
              "          ...,\n",
              "          [207., 207., 207.],\n",
              "          [207., 207., 207.],\n",
              "          [208., 208., 208.]],\n",
              " \n",
              "         ...,\n",
              " \n",
              "         [[135., 135., 135.],\n",
              "          [134., 134., 134.],\n",
              "          [147., 147., 147.],\n",
              "          ...,\n",
              "          [113., 113., 113.],\n",
              "          [110., 110., 110.],\n",
              "          [ 81.,  81.,  81.]],\n",
              " \n",
              "         [[126., 126., 126.],\n",
              "          [140., 140., 140.],\n",
              "          [159., 159., 159.],\n",
              "          ...,\n",
              "          [102., 102., 102.],\n",
              "          [ 80.,  80.,  80.],\n",
              "          [ 79.,  79.,  79.]],\n",
              " \n",
              "         [[143., 143., 143.],\n",
              "          [148., 148., 148.],\n",
              "          [160., 160., 160.],\n",
              "          ...,\n",
              "          [ 87.,  87.,  87.],\n",
              "          [ 85.,  85.,  85.],\n",
              "          [ 85.,  85.,  85.]]],\n",
              " \n",
              " \n",
              "        [[[127., 127., 127.],\n",
              "          [ 68.,  68.,  68.],\n",
              "          [ 56.,  56.,  56.],\n",
              "          ...,\n",
              "          [181., 181., 181.],\n",
              "          [149., 149., 149.],\n",
              "          [149., 149., 149.]],\n",
              " \n",
              "         [[ 97.,  97.,  97.],\n",
              "          [ 79.,  79.,  79.],\n",
              "          [ 94.,  94.,  94.],\n",
              "          ...,\n",
              "          [139., 139., 139.],\n",
              "          [165., 165., 165.],\n",
              "          [149., 149., 149.]],\n",
              " \n",
              "         [[113., 113., 113.],\n",
              "          [ 86.,  86.,  86.],\n",
              "          [131., 131., 131.],\n",
              "          ...,\n",
              "          [136., 136., 136.],\n",
              "          [151., 151., 151.],\n",
              "          [148., 148., 148.]],\n",
              " \n",
              "         ...,\n",
              " \n",
              "         [[112., 112., 112.],\n",
              "          [ 91.,  91.,  91.],\n",
              "          [112., 112., 112.],\n",
              "          ...,\n",
              "          [160., 160., 160.],\n",
              "          [162., 162., 162.],\n",
              "          [169., 169., 169.]],\n",
              " \n",
              "         [[151., 151., 151.],\n",
              "          [ 87.,  87.,  87.],\n",
              "          [ 94.,  94.,  94.],\n",
              "          ...,\n",
              "          [166., 166., 166.],\n",
              "          [161., 161., 161.],\n",
              "          [169., 169., 169.]],\n",
              " \n",
              "         [[162., 162., 162.],\n",
              "          [146., 146., 146.],\n",
              "          [ 76.,  76.,  76.],\n",
              "          ...,\n",
              "          [174., 174., 174.],\n",
              "          [169., 169., 169.],\n",
              "          [154., 154., 154.]]],\n",
              " \n",
              " \n",
              "        [[[151., 151., 151.],\n",
              "          [ 41.,  41.,  41.],\n",
              "          [ 43.,  43.,  43.],\n",
              "          ...,\n",
              "          [ 50.,  50.,  50.],\n",
              "          [ 59.,  59.,  59.],\n",
              "          [ 67.,  67.,  67.]],\n",
              " \n",
              "         [[ 65.,  65.,  65.],\n",
              "          [ 39.,  39.,  39.],\n",
              "          [ 39.,  39.,  39.],\n",
              "          ...,\n",
              "          [ 51.,  51.,  51.],\n",
              "          [ 61.,  61.,  61.],\n",
              "          [ 60.,  60.,  60.]],\n",
              " \n",
              "         [[ 47.,  47.,  47.],\n",
              "          [ 36.,  36.,  36.],\n",
              "          [ 36.,  36.,  36.],\n",
              "          ...,\n",
              "          [ 57.,  57.,  57.],\n",
              "          [ 60.,  60.,  60.],\n",
              "          [ 58.,  58.,  58.]],\n",
              " \n",
              "         ...,\n",
              " \n",
              "         [[255., 255., 255.],\n",
              "          [255., 255., 255.],\n",
              "          [255., 255., 255.],\n",
              "          ...,\n",
              "          [255., 255., 255.],\n",
              "          [254., 254., 254.],\n",
              "          [255., 255., 255.]],\n",
              " \n",
              "         [[255., 255., 255.],\n",
              "          [255., 255., 255.],\n",
              "          [255., 255., 255.],\n",
              "          ...,\n",
              "          [255., 255., 255.],\n",
              "          [255., 255., 255.],\n",
              "          [255., 255., 255.]],\n",
              " \n",
              "         [[255., 255., 255.],\n",
              "          [255., 255., 255.],\n",
              "          [255., 255., 255.],\n",
              "          ...,\n",
              "          [253., 253., 253.],\n",
              "          [255., 255., 255.],\n",
              "          [255., 255., 255.]]]], dtype=float32),\n",
              " array([6, 5, 0, 4, 2, 4, 2, 4, 2, 2, 4, 4, 5, 5, 0, 3, 3, 6, 2, 5, 2, 2,\n",
              "        2, 2, 3, 6, 4, 3, 3, 6, 5, 5, 2, 3, 0, 2, 4, 4, 5, 3, 6, 2, 5, 3,\n",
              "        2, 0, 0, 6, 3, 4, 2, 6, 1, 3, 3, 3, 3, 2, 2, 4, 2, 3, 6, 0, 3, 0,\n",
              "        3, 3, 4, 3, 6, 3, 3, 3, 4, 2, 4, 6, 0, 4], dtype=int32))"
            ]
          },
          "metadata": {},
          "execution_count": 21
        }
      ],
      "source": [
        "batch_train"
      ]
    },
    {
      "cell_type": "code",
      "execution_count": null,
      "metadata": {
        "colab": {
          "base_uri": "https://localhost:8080/",
          "height": 65
        },
        "id": "swrSxv8-psYJ",
        "outputId": "d6766b59-406d-4ae1-e232-5478cf051f55"
      },
      "outputs": [
        {
          "output_type": "display_data",
          "data": {
            "text/plain": [
              "<PIL.Image.Image image mode=RGB size=48x48>"
            ],
            "image/png": "[encoded data removed]"
          },
          "metadata": {}
        }
      ],
      "source": [
        "cv2_imshow(batch_train[0][0])"
      ]
    },
    {
      "cell_type": "code",
      "execution_count": null,
      "metadata": {
        "colab": {
          "base_uri": "https://localhost:8080/"
        },
        "id": "ShXqjbHIqJoX",
        "outputId": "b38d415e-b53f-49e3-bf04-cb870af21ce6"
      },
      "outputs": [
        {
          "output_type": "execute_result",
          "data": {
            "text/plain": [
              "6"
            ]
          },
          "metadata": {},
          "execution_count": 23
        }
      ],
      "source": [
        "batch_train[1][0]"
      ]
    },
    {
      "cell_type": "code",
      "execution_count": null,
      "metadata": {
        "colab": {
          "base_uri": "https://localhost:8080/"
        },
        "id": "RNmkYBodqihE",
        "outputId": "5df3327d-a7db-4dc2-fa58-5368e96c3b36"
      },
      "outputs": [
        {
          "output_type": "stream",
          "name": "stdout",
          "text": [
            "Model: \"sequential\"\n",
            "_________________________________________________________________\n",
            " Layer (type)                Output Shape              Param #   \n",
            "=================================================================\n",
            " conv2d (Conv2D)             (None, 48, 48, 64)        1792      \n",
            "                                                                 \n",
            " batch_normalization (BatchN  (None, 48, 48, 64)       256       \n",
            " ormalization)                                                   \n",
            "                                                                 \n",
            " max_pooling2d (MaxPooling2D  (None, 24, 24, 64)       0         \n",
            " )                                                               \n",
            "                                                                 \n",
            " conv2d_1 (Conv2D)           (None, 24, 24, 128)       73856     \n",
            "                                                                 \n",
            " batch_normalization_1 (Batc  (None, 24, 24, 128)      512       \n",
            " hNormalization)                                                 \n",
            "                                                                 \n",
            " max_pooling2d_1 (MaxPooling  (None, 12, 12, 128)      0         \n",
            " 2D)                                                             \n",
            "                                                                 \n",
            " conv2d_2 (Conv2D)           (None, 12, 12, 256)       295168    \n",
            "                                                                 \n",
            " batch_normalization_2 (Batc  (None, 12, 12, 256)      1024      \n",
            " hNormalization)                                                 \n",
            "                                                                 \n",
            " max_pooling2d_2 (MaxPooling  (None, 6, 6, 256)        0         \n",
            " 2D)                                                             \n",
            "                                                                 \n",
            " conv2d_3 (Conv2D)           (None, 6, 6, 512)         1180160   \n",
            "                                                                 \n",
            " batch_normalization_3 (Batc  (None, 6, 6, 512)        2048      \n",
            " hNormalization)                                                 \n",
            "                                                                 \n",
            " max_pooling2d_3 (MaxPooling  (None, 3, 3, 512)        0         \n",
            " 2D)                                                             \n",
            "                                                                 \n",
            " flatten (Flatten)           (None, 4608)              0         \n",
            "                                                                 \n",
            " dense (Dense)               (None, 512)               2359808   \n",
            "                                                                 \n",
            " batch_normalization_4 (Batc  (None, 512)              2048      \n",
            " hNormalization)                                                 \n",
            "                                                                 \n",
            " dense_1 (Dense)             (None, 256)               131328    \n",
            "                                                                 \n",
            " batch_normalization_5 (Batc  (None, 256)              1024      \n",
            " hNormalization)                                                 \n",
            "                                                                 \n",
            " dense_2 (Dense)             (None, 7)                 1799      \n",
            "                                                                 \n",
            "=================================================================\n",
            "Total params: 4,050,823\n",
            "Trainable params: 4,047,367\n",
            "Non-trainable params: 3,456\n",
            "_________________________________________________________________\n"
          ]
        },
        {
          "output_type": "stream",
          "name": "stderr",
          "text": [
            "/usr/local/lib/python3.10/dist-packages/keras/optimizers/legacy/adam.py:117: UserWarning: The `lr` argument is deprecated, use `learning_rate` instead.\n",
            "  super().__init__(name, **kwargs)\n"
          ]
        }
      ],
      "source": [
        "import tensorflow as tf\n",
        "from tensorflow import keras\n",
        "from keras.models import Sequential\n",
        "from tensorflow.keras.models import Sequential\n",
        "from tensorflow.keras.layers import Conv2D, MaxPooling2D, Flatten, Dense, Dropout, BatchNormalization\n",
        "from keras.callbacks import ReduceLROnPlateau\n",
        "from keras.optimizers import Adam\n",
        "\n",
        "model= keras.models.Sequential()\n",
        "\n",
        "model.add(Conv2D(64, (3, 3), activation='relu', input_shape=(48, 48, 3), padding='same'))\n",
        "model.add(BatchNormalization())\n",
        "model.add(MaxPooling2D(pool_size=(2, 2)))\n",
        "\n",
        "model.add(Conv2D(128, (3, 3), activation='relu', padding='same'))\n",
        "model.add(BatchNormalization())\n",
        "model.add(MaxPooling2D(pool_size=(2, 2)))\n",
        "\n",
        "model.add(Conv2D(256, (3, 3), activation='relu', padding='same'))\n",
        "model.add(BatchNormalization())\n",
        "model.add(MaxPooling2D(pool_size=(2, 2)))\n",
        "\n",
        "model.add(Conv2D(512, (3, 3), activation='relu', padding='same'))\n",
        "model.add(BatchNormalization())\n",
        "model.add(MaxPooling2D(pool_size=(2, 2)))\n",
        "\n",
        "model.add(Flatten())\n",
        "\n",
        "model.add(Dense(512, activation='relu'))\n",
        "model.add(BatchNormalization())\n",
        "model.add(Dense(256, activation='relu'))\n",
        "model.add(BatchNormalization())\n",
        "model.add(Dense(7, activation='softmax'))\n",
        "\n",
        "# Learning rate scheduler\n",
        "reduce_lr = ReduceLROnPlateau(monitor='val_loss', factor=0.2, patience=3, min_lr=1e-6)\n",
        "\n",
        "model.compile(optimizer=Adam(lr=0.001), loss='sparse_categorical_crossentropy', metrics=['accuracy'])\n",
        "\n",
        "model.summary()\n"
      ]
    },
    {
      "cell_type": "code",
      "execution_count": null,
      "metadata": {
        "colab": {
          "base_uri": "https://localhost:8080/",
          "height": 778
        },
        "id": "EFYVTOOZto96",
        "outputId": "dfe96513-107e-4791-bebb-7c2a2c30ba98"
      },
      "outputs": [
        {
          "output_type": "stream",
          "name": "stdout",
          "text": [
            "Epoch 1/20\n",
            "404/404 [==============================] - 4721s 12s/step - loss: 1.5596 - accuracy: 0.4075 - val_loss: 1.5391 - val_accuracy: 0.4411\n",
            "Epoch 2/20\n",
            "404/404 [==============================] - 1070s 3s/step - loss: 1.2257 - accuracy: 0.5299 - val_loss: 1.4498 - val_accuracy: 0.4425\n",
            "Epoch 3/20\n",
            "404/404 [==============================] - 1078s 3s/step - loss: 1.0757 - accuracy: 0.5952 - val_loss: 1.2681 - val_accuracy: 0.5171\n",
            "Epoch 4/20\n",
            "404/404 [==============================] - 1081s 3s/step - loss: 0.9376 - accuracy: 0.6478 - val_loss: 1.4127 - val_accuracy: 0.5040\n",
            "Epoch 5/20\n",
            "404/404 [==============================] - 1072s 3s/step - loss: 0.8036 - accuracy: 0.7009 - val_loss: 1.3788 - val_accuracy: 0.5269\n",
            "Epoch 6/20\n",
            "404/404 [==============================] - 1054s 3s/step - loss: 0.6361 - accuracy: 0.7646 - val_loss: 1.4024 - val_accuracy: 0.5358\n",
            "Epoch 7/20\n",
            "404/404 [==============================] - 1056s 3s/step - loss: 0.4654 - accuracy: 0.8306 - val_loss: 1.6092 - val_accuracy: 0.5456\n",
            "Epoch 8/20\n",
            "404/404 [==============================] - 1063s 3s/step - loss: 0.3488 - accuracy: 0.8772 - val_loss: 1.7771 - val_accuracy: 0.5623\n",
            "Epoch 9/20\n",
            "404/404 [==============================] - 1051s 3s/step - loss: 0.2439 - accuracy: 0.9136 - val_loss: 1.8658 - val_accuracy: 0.5620\n",
            "Epoch 10/20\n",
            "311/404 [======================>.......] - ETA: 3:54 - loss: 0.1959 - accuracy: 0.9336"
          ]
        },
        {
          "output_type": "error",
          "ename": "NotFoundError",
          "evalue": "ignored",
          "traceback": [
            "\u001b[0;31m---------------------------------------------------------------------------\u001b[0m",
            "\u001b[0;31mNotFoundError\u001b[0m                             Traceback (most recent call last)",
            "\u001b[0;32m<ipython-input-25-1130ba75feb0>\u001b[0m in \u001b[0;36m<cell line: 1>\u001b[0;34m()\u001b[0m\n\u001b[0;32m----> 1\u001b[0;31m \u001b[0mhistory\u001b[0m  \u001b[0;34m=\u001b[0m \u001b[0mmodel\u001b[0m\u001b[0;34m.\u001b[0m\u001b[0mfit\u001b[0m\u001b[0;34m(\u001b[0m\u001b[0mtrain_batches\u001b[0m\u001b[0;34m,\u001b[0m \u001b[0mepochs\u001b[0m\u001b[0;34m=\u001b[0m \u001b[0;36m20\u001b[0m\u001b[0;34m,\u001b[0m \u001b[0mvalidation_data\u001b[0m\u001b[0;34m=\u001b[0m \u001b[0mtest_batches\u001b[0m \u001b[0;34m)\u001b[0m\u001b[0;34m\u001b[0m\u001b[0;34m\u001b[0m\u001b[0m\n\u001b[0m",
            "\u001b[0;32m/usr/local/lib/python3.10/dist-packages/keras/utils/traceback_utils.py\u001b[0m in \u001b[0;36merror_handler\u001b[0;34m(*args, **kwargs)\u001b[0m\n\u001b[1;32m     68\u001b[0m             \u001b[0;31m# To get the full stack trace, call:\u001b[0m\u001b[0;34m\u001b[0m\u001b[0;34m\u001b[0m\u001b[0m\n\u001b[1;32m     69\u001b[0m             \u001b[0;31m# `tf.debugging.disable_traceback_filtering()`\u001b[0m\u001b[0;34m\u001b[0m\u001b[0;34m\u001b[0m\u001b[0m\n\u001b[0;32m---> 70\u001b[0;31m             \u001b[0;32mraise\u001b[0m \u001b[0me\u001b[0m\u001b[0;34m.\u001b[0m\u001b[0mwith_traceback\u001b[0m\u001b[0;34m(\u001b[0m\u001b[0mfiltered_tb\u001b[0m\u001b[0;34m)\u001b[0m \u001b[0;32mfrom\u001b[0m \u001b[0;32mNone\u001b[0m\u001b[0;34m\u001b[0m\u001b[0;34m\u001b[0m\u001b[0m\n\u001b[0m\u001b[1;32m     71\u001b[0m         \u001b[0;32mfinally\u001b[0m\u001b[0;34m:\u001b[0m\u001b[0;34m\u001b[0m\u001b[0;34m\u001b[0m\u001b[0m\n\u001b[1;32m     72\u001b[0m             \u001b[0;32mdel\u001b[0m \u001b[0mfiltered_tb\u001b[0m\u001b[0;34m\u001b[0m\u001b[0;34m\u001b[0m\u001b[0m\n",
            "\u001b[0;32m/usr/local/lib/python3.10/dist-packages/tensorflow/python/eager/execute.py\u001b[0m in \u001b[0;36mquick_execute\u001b[0;34m(op_name, num_outputs, inputs, attrs, ctx, name)\u001b[0m\n\u001b[1;32m     50\u001b[0m   \u001b[0;32mtry\u001b[0m\u001b[0;34m:\u001b[0m\u001b[0;34m\u001b[0m\u001b[0;34m\u001b[0m\u001b[0m\n\u001b[1;32m     51\u001b[0m     \u001b[0mctx\u001b[0m\u001b[0;34m.\u001b[0m\u001b[0mensure_initialized\u001b[0m\u001b[0;34m(\u001b[0m\u001b[0;34m)\u001b[0m\u001b[0;34m\u001b[0m\u001b[0;34m\u001b[0m\u001b[0m\n\u001b[0;32m---> 52\u001b[0;31m     tensors = pywrap_tfe.TFE_Py_Execute(ctx._handle, device_name, op_name,\n\u001b[0m\u001b[1;32m     53\u001b[0m                                         inputs, attrs, num_outputs)\n\u001b[1;32m     54\u001b[0m   \u001b[0;32mexcept\u001b[0m \u001b[0mcore\u001b[0m\u001b[0;34m.\u001b[0m\u001b[0m_NotOkStatusException\u001b[0m \u001b[0;32mas\u001b[0m \u001b[0me\u001b[0m\u001b[0;34m:\u001b[0m\u001b[0;34m\u001b[0m\u001b[0;34m\u001b[0m\u001b[0m\n",
            "\u001b[0;31mNotFoundError\u001b[0m: Graph execution error:\n\n/content/drive/MyDrive/Extracted data set 2/Dataset/train/fear/172155567.png; No such file or directory\n\t [[{{node ReadFile}}]]\n\t [[IteratorGetNext]] [Op:__inference_train_function_2198]"
          ]
        }
      ],
      "source": [
        "history  = model.fit(train_batches, epochs= 20, validation_data= test_batches )"
      ]
    },
    {
      "cell_type": "code",
      "execution_count": null,
      "metadata": {
        "id": "jnEuK3ppuXtb"
      },
      "outputs": [],
      "source": []
    }
  ],
  "metadata": {
    "accelerator": "TPU",
    "colab": {
      "provenance": []
    },
    "kernelspec": {
      "display_name": "Python 3",
      "name": "python3"
    },
    "language_info": {
      "name": "python"
    }
  },
  "nbformat": 4,
  "nbformat_minor": 0
}